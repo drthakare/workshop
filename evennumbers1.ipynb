{
 "cells": [
  {
   "cell_type": "code",
   "execution_count": 3,
   "metadata": {
    "collapsed": false
   },
   "outputs": [
    {
     "name": "stdout",
     "output_type": "stream",
     "text": [
      "tales of two cities\n",
      "Harry Pott\n",
      "Lord of the Rings\n"
     ]
    }
   ],
   "source": [
    "books  = [\"tales of two cities\" , \"Harry Pott\", \"Lord of the Rings\"]\n",
    "nums = range(100)\n",
    "for b in books:\n",
    "    print(b)\n",
    "          "
   ]
  },
  {
   "cell_type": "code",
   "execution_count": 5,
   "metadata": {
    "collapsed": false
   },
   "outputs": [
    {
     "data": {
      "text/plain": [
       "['tales of two cities', 'Harry Pott', 'Lord of the Rings']"
      ]
     },
     "execution_count": 5,
     "metadata": {},
     "output_type": "execute_result"
    }
   ],
   "source": [
    "books\n"
   ]
  },
  {
   "cell_type": "code",
   "execution_count": 8,
   "metadata": {
    "collapsed": false
   },
   "outputs": [
    {
     "data": {
      "text/plain": [
       "[0,\n",
       " 1,\n",
       " 2,\n",
       " 3,\n",
       " 4,\n",
       " 5,\n",
       " 6,\n",
       " 7,\n",
       " 8,\n",
       " 9,\n",
       " 10,\n",
       " 11,\n",
       " 12,\n",
       " 13,\n",
       " 14,\n",
       " 15,\n",
       " 16,\n",
       " 17,\n",
       " 18,\n",
       " 19,\n",
       " 20,\n",
       " 21,\n",
       " 22,\n",
       " 23,\n",
       " 24,\n",
       " 25,\n",
       " 26,\n",
       " 27,\n",
       " 28,\n",
       " 29,\n",
       " 30,\n",
       " 31,\n",
       " 32,\n",
       " 33,\n",
       " 34,\n",
       " 35,\n",
       " 36,\n",
       " 37,\n",
       " 38,\n",
       " 39,\n",
       " 40,\n",
       " 41,\n",
       " 42,\n",
       " 43,\n",
       " 44,\n",
       " 45,\n",
       " 46,\n",
       " 47,\n",
       " 48,\n",
       " 49,\n",
       " 50,\n",
       " 51,\n",
       " 52,\n",
       " 53,\n",
       " 54,\n",
       " 55,\n",
       " 56,\n",
       " 57,\n",
       " 58,\n",
       " 59,\n",
       " 60,\n",
       " 61,\n",
       " 62,\n",
       " 63,\n",
       " 64,\n",
       " 65,\n",
       " 66,\n",
       " 67,\n",
       " 68,\n",
       " 69,\n",
       " 70,\n",
       " 71,\n",
       " 72,\n",
       " 73,\n",
       " 74,\n",
       " 75,\n",
       " 76,\n",
       " 77,\n",
       " 78,\n",
       " 79,\n",
       " 80,\n",
       " 81,\n",
       " 82,\n",
       " 83,\n",
       " 84,\n",
       " 85,\n",
       " 86,\n",
       " 87,\n",
       " 88,\n",
       " 89,\n",
       " 90,\n",
       " 91,\n",
       " 92,\n",
       " 93,\n",
       " 94,\n",
       " 95,\n",
       " 96,\n",
       " 97,\n",
       " 98,\n",
       " 99]"
      ]
     },
     "execution_count": 8,
     "metadata": {},
     "output_type": "execute_result"
    }
   ],
   "source": [
    "nums = range(100)\n",
    "nums\n",
    "list (nums)"
   ]
  },
  {
   "cell_type": "code",
   "execution_count": 11,
   "metadata": {
    "collapsed": false
   },
   "outputs": [
    {
     "ename": "SyntaxError",
     "evalue": "invalid syntax (<ipython-input-11-2e2ae046d330>, line 2)",
     "output_type": "error",
     "traceback": [
      "\u001b[1;36m  File \u001b[1;32m\"<ipython-input-11-2e2ae046d330>\"\u001b[1;36m, line \u001b[1;32m2\u001b[0m\n\u001b[1;33m    if: x = 111:\u001b[0m\n\u001b[1;37m      ^\u001b[0m\n\u001b[1;31mSyntaxError\u001b[0m\u001b[1;31m:\u001b[0m invalid syntax\n"
     ]
    }
   ],
   "source": [
    "for n in nums:\n",
    "    if: x = 111:\n",
    "            x < n\n",
    "            print \"this is wrong\"\n",
    "    else: print \"try different no\"\n",
    "        "
   ]
  },
  {
   "cell_type": "code",
   "execution_count": 14,
   "metadata": {
    "collapsed": false
   },
   "outputs": [
    {
     "data": {
      "text/plain": [
       "True"
      ]
     },
     "execution_count": 14,
     "metadata": {},
     "output_type": "execute_result"
    }
   ],
   "source": [
    "def isEven (n):\n",
    "    return n % 2 == 0\n",
    "isEven (8)\n"
   ]
  },
  {
   "cell_type": "code",
   "execution_count": 17,
   "metadata": {
    "collapsed": false
   },
   "outputs": [
    {
     "name": "stdout",
     "output_type": "stream",
     "text": [
      "True\n",
      "0\n",
      "False\n",
      "True\n",
      "2\n",
      "False\n",
      "True\n",
      "4\n",
      "False\n",
      "True\n",
      "6\n",
      "False\n",
      "True\n",
      "8\n",
      "False\n",
      "True\n",
      "10\n",
      "False\n",
      "True\n",
      "12\n",
      "False\n",
      "True\n",
      "14\n",
      "False\n",
      "True\n",
      "16\n",
      "False\n",
      "True\n",
      "18\n",
      "False\n",
      "True\n",
      "20\n",
      "False\n",
      "True\n",
      "22\n",
      "False\n",
      "True\n",
      "24\n",
      "False\n",
      "True\n",
      "26\n",
      "False\n",
      "True\n",
      "28\n",
      "False\n",
      "True\n",
      "30\n",
      "False\n",
      "True\n",
      "32\n",
      "False\n",
      "True\n",
      "34\n",
      "False\n",
      "True\n",
      "36\n",
      "False\n",
      "True\n",
      "38\n",
      "False\n",
      "True\n",
      "40\n",
      "False\n",
      "True\n",
      "42\n",
      "False\n",
      "True\n",
      "44\n",
      "False\n",
      "True\n",
      "46\n",
      "False\n",
      "True\n",
      "48\n",
      "False\n",
      "True\n",
      "50\n",
      "False\n",
      "True\n",
      "52\n",
      "False\n",
      "True\n",
      "54\n",
      "False\n",
      "True\n",
      "56\n",
      "False\n",
      "True\n",
      "58\n",
      "False\n",
      "True\n",
      "60\n",
      "False\n",
      "True\n",
      "62\n",
      "False\n",
      "True\n",
      "64\n",
      "False\n",
      "True\n",
      "66\n",
      "False\n",
      "True\n",
      "68\n",
      "False\n",
      "True\n",
      "70\n",
      "False\n",
      "True\n",
      "72\n",
      "False\n",
      "True\n",
      "74\n",
      "False\n",
      "True\n",
      "76\n",
      "False\n",
      "True\n",
      "78\n",
      "False\n",
      "True\n",
      "80\n",
      "False\n",
      "True\n",
      "82\n",
      "False\n",
      "True\n",
      "84\n",
      "False\n",
      "True\n",
      "86\n",
      "False\n",
      "True\n",
      "88\n",
      "False\n",
      "True\n",
      "90\n",
      "False\n",
      "True\n",
      "92\n",
      "False\n",
      "True\n",
      "94\n",
      "False\n",
      "True\n",
      "96\n",
      "False\n",
      "True\n",
      "98\n",
      "False\n"
     ]
    }
   ],
   "source": [
    "for n in nums:\n",
    "    print (isEven(n))\n",
    "    if isEven(n):\n",
    "        print(n)\n",
    "        \n",
    "    "
   ]
  },
  {
   "cell_type": "code",
   "execution_count": 18,
   "metadata": {
    "collapsed": false
   },
   "outputs": [
    {
     "name": "stdout",
     "output_type": "stream",
     "text": [
      "0\n",
      "2\n",
      "4\n",
      "6\n",
      "8\n",
      "10\n",
      "12\n",
      "14\n",
      "16\n",
      "18\n",
      "20\n",
      "22\n",
      "24\n",
      "26\n",
      "28\n",
      "30\n",
      "32\n",
      "34\n",
      "36\n",
      "38\n",
      "40\n",
      "42\n",
      "44\n",
      "46\n",
      "48\n",
      "50\n",
      "52\n",
      "54\n",
      "56\n",
      "58\n",
      "60\n",
      "62\n",
      "64\n",
      "66\n",
      "68\n",
      "70\n",
      "72\n",
      "74\n",
      "76\n",
      "78\n",
      "80\n",
      "82\n",
      "84\n",
      "86\n",
      "88\n",
      "90\n",
      "92\n",
      "94\n",
      "96\n",
      "98\n"
     ]
    }
   ],
   "source": [
    "for n in nums:\n",
    "       if isEven(n):\n",
    "        print(n)"
   ]
  }
 ],
 "metadata": {
  "kernelspec": {
   "display_name": "Python 3",
   "language": "python",
   "name": "python3"
  },
  "language_info": {
   "codemirror_mode": {
    "name": "ipython",
    "version": 3
   },
   "file_extension": ".py",
   "mimetype": "text/x-python",
   "name": "python",
   "nbconvert_exporter": "python",
   "pygments_lexer": "ipython3",
   "version": "3.5.1"
  }
 },
 "nbformat": 4,
 "nbformat_minor": 0
}
